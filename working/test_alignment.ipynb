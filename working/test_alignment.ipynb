{
 "cells": [
  {
   "cell_type": "code",
   "execution_count": 8,
   "metadata": {},
   "outputs": [
    {
     "data": {
      "text/plain": [
       "{'seq1': 'ACAGTACGGCAT', 'seq2': 'ACAGTACTGGCAT', 'seq3': 'ACAGCGCAT'}"
      ]
     },
     "execution_count": 8,
     "metadata": {},
     "output_type": "execute_result"
    }
   ],
   "source": [
    "import cogent3\n",
    "from cogent3.core import moltype\n",
    "\n",
    "seqs_dict = {\"seq1\": \"ACAGTACGGCAT\",\"seq2\": \"ACAGTACTGGCAT\", \"seq3\":\"ACAGCGCAT\"}\n",
    "seqs = cogent3.make_unaligned_seqs(data = seqs_dict, moltype=\"dna\")\n",
    "seqs.to_dict()\n",
    "\n"
   ]
  },
  {
   "cell_type": "code",
   "execution_count": 25,
   "metadata": {},
   "outputs": [
    {
     "data": {
      "text/plain": [
       "{'seq1': 'ACAGTAC-GGCAT', 'seq2': 'ACAGTACTGGCAT', 'seq3': 'ACAGC----GCAT'}"
      ]
     },
     "execution_count": 25,
     "metadata": {},
     "output_type": "execute_result"
    }
   ],
   "source": [
    "from cogent3 import get_app, app_help\n",
    "\n",
    "\n",
    "aligner = cogent3.get_app(\"progressive_align\",\"HKY85\")\n",
    "aligned = aligner(seqs)\n",
    "aligned.to_dict()\n"
   ]
  },
  {
   "cell_type": "code",
   "execution_count": 24,
   "metadata": {},
   "outputs": [
    {
     "data": {
      "text/plain": [
       "cogent3.core.alignment.ArrayAlignment"
      ]
     },
     "execution_count": 24,
     "metadata": {},
     "output_type": "execute_result"
    }
   ],
   "source": [
    "type(aligned)"
   ]
  }
 ],
 "metadata": {
  "kernelspec": {
   "display_name": "venv",
   "language": "python",
   "name": "python3"
  },
  "language_info": {
   "codemirror_mode": {
    "name": "ipython",
    "version": 3
   },
   "file_extension": ".py",
   "mimetype": "text/x-python",
   "name": "python",
   "nbconvert_exporter": "python",
   "pygments_lexer": "ipython3",
   "version": "3.10.5"
  }
 },
 "nbformat": 4,
 "nbformat_minor": 2
}
