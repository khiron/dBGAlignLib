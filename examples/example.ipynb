{
 "cells": [
  {
   "cell_type": "code",
   "execution_count": null,
   "metadata": {},
   "outputs": [],
   "source": []
  },
  {
   "cell_type": "markdown",
   "metadata": {},
   "source": [
    "### Import the library"
   ]
  },
  {
   "cell_type": "code",
   "execution_count": 1,
   "metadata": {},
   "outputs": [],
   "source": [
    "import dBgAlign"
   ]
  },
  {
   "cell_type": "markdown",
   "metadata": {},
   "source": [
    "### Create a de Brujin graph with k-mer length of 3 from a list of sequences"
   ]
  },
  {
   "cell_type": "code",
   "execution_count": 2,
   "metadata": {},
   "outputs": [
    {
     "data": {
      "text/html": [
       "<img src=\"https://mermaid.ink/img/Z3JhcGggTFI7ClJvb3QgLS0+fCIzInwgQUNBOwpBQ0EgLS0+fCIzInwgQ0FHOwpDQUcgLS0+fCIyInwgQUdUOwpBR1QgLS0+fCIyInwgR1RBOwpHVEEgLS0+fCIyInwgVEFDOwpUQUMgLS0+fCIxInwgQUNHOwpBQ0cgLS0+fCIxInwgQ0dHOwpDR0cgLS0+fCIxInwgR0dDOwpHR0MgLS0+fCIyInwgR0NBOwpHQ0EgLS0+fCIzInwgQ0FUOwpUQUMgLS0+fCIxInwgQUNUOwpBQ1QgLS0+fCIxInwgQ1RHOwpDVEcgLS0+fCIxInwgVEdHOwpUR0cgLS0+fCIxInwgR0dDOwpDQUcgLS0+fCIxInwgQUdDOwpBR0MgLS0+fCIxInwgR0NHOwpHQ0cgLS0+fCIxInwgQ0dDOwpDR0MgLS0+fCIxInwgR0NBOwo=\"/>"
      ],
      "text/plain": [
       "<IPython.core.display.Image object>"
      ]
     },
     "metadata": {},
     "output_type": "display_data"
    }
   ],
   "source": [
    "dbg = dBgAlign.DeBrujinGraph(kmer_length=3)\n",
    "dbg.add_sequence([\n",
    "    'ACAGTACGGCAT',\n",
    "    'ACAGTACTGGCAT',\n",
    "    'ACAGCGCAT'\n",
    "    ])\n",
    "\n",
    "dBgAlign.display_mermaid_in_jupyter(dbg.to_mermaid())"
   ]
  },
  {
   "cell_type": "markdown",
   "metadata": {},
   "source": [
    "### Compress the graph to a particla order graph"
   ]
  },
  {
   "cell_type": "code",
   "execution_count": 4,
   "metadata": {},
   "outputs": [
    {
     "data": {
      "text/html": [
       "<img src=\"https://mermaid.ink/img/Z3JhcGggTFI7ClJvb3QgLS0+fCIzInwgQUNBRzsKQUNBRyAtLT58IjIifCBBR1RBQzsKQUdUQUMgLS0+fCIxInwgQUNHRzsKQUNHRyAtLT58IjEifCBHR0M7CkdHQyAtLT58IjIifCBHQ0FUOwpBR1RBQyAtLT58IjEifCBBQ1RHRzsKQUNUR0cgLS0+fCIxInwgR0dDOwpBQ0FHIC0tPnwiMSJ8IEFHQ0dDOwpBR0NHQyAtLT58IjEifCBHQ0FUOwo=\"/>"
      ],
      "text/plain": [
       "<IPython.core.display.Image object>"
      ]
     },
     "metadata": {},
     "output_type": "display_data"
    }
   ],
   "source": [
    "dbg.compress_graph()\n",
    "dBgAlign.display_mermaid_in_jupyter(dbg.to_mermaid())"
   ]
  }
 ],
 "metadata": {
  "kernelspec": {
   "display_name": "venv",
   "language": "python",
   "name": "python3"
  },
  "language_info": {
   "codemirror_mode": {
    "name": "ipython",
    "version": 3
   },
   "file_extension": ".py",
   "mimetype": "text/x-python",
   "name": "python",
   "nbconvert_exporter": "python",
   "pygments_lexer": "ipython3",
   "version": "3.10.5"
  }
 },
 "nbformat": 4,
 "nbformat_minor": 2
}
