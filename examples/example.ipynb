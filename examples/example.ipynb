{
 "cells": [
  {
   "cell_type": "code",
   "execution_count": 1,
   "metadata": {},
   "outputs": [],
   "source": [
    "import dBgAlign"
   ]
  },
  {
   "cell_type": "code",
   "execution_count": 2,
   "metadata": {},
   "outputs": [
    {
     "data": {
      "text/plain": [
       "dbg k:3, mol:MolType(('T', 'C', 'A', 'G')), seq's:3)"
      ]
     },
     "execution_count": 2,
     "metadata": {},
     "output_type": "execute_result"
    }
   ],
   "source": [
    "dbg = dBgAlign.DeBrujinGraph(kmer_length=3)\n",
    "dbg.add_sequence([\n",
    "    'ACAGTACGGCAT',\n",
    "    'ACAGTACTGGCAT',\n",
    "    'ACAGCGCAT'\n",
    "    ])\n",
    "\n",
    "dbg "
   ]
  },
  {
   "cell_type": "code",
   "execution_count": null,
   "metadata": {},
   "outputs": [],
   "source": [
    "from IPython.display import display, HTML, Javascript\n",
    "\n",
    "mermaid_code = dbg.as_mermaid()\n",
    "\n",
    "import nbformat as nbf\n",
    "\n",
    "# Load the notebook\n",
    "nb = nbf.read('example.ipynb', as_version=4)\n",
    "\n",
    "# Iterate over the cells in the notebook\n",
    "for i, cell in enumerate(nb.cells):\n",
    "    # Check if the cell is a markdown cell and contains a mermaid graph\n",
    "    if cell['cell_type'] == 'markdown' and '```mermaid' in cell['source']:\n",
    "        # Modify the mermaid graph\n",
    "        cell['source'] = cell['source'].replace('Graph LR', mermaid_code)\n",
    "\n",
    "# Write the modified notebook back to\n",
    "nbf.write(nb, 'example.ipynb')"
   ]
  },
  {
   "cell_type": "markdown",
   "metadata": {},
   "source": [
    "```mermaid\n",
    "graph LR;\n",
    "\n",
    "```\n"
   ]
  },
  {
   "cell_type": "code",
   "execution_count": null,
   "metadata": {},
   "outputs": [],
   "source": [
    "from cogent3 import load_unaligned_seqs\n",
    "import cogent3\n",
    "type(cogent3.DNA)"
   ]
  },
  {
   "cell_type": "code",
   "execution_count": null,
   "metadata": {},
   "outputs": [],
   "source": [
    "aln = load_unaligned_seqs(\"../tests/data/primates_brca1.fasta\", moltype=\"dna\")\n",
    "seq =  aln.seqs[7]\n",
    "seq.to_rich_dict()\n"
   ]
  }
 ],
 "metadata": {
  "kernelspec": {
   "display_name": "venv",
   "language": "python",
   "name": "python3"
  },
  "language_info": {
   "codemirror_mode": {
    "name": "ipython",
    "version": 3
   },
   "file_extension": ".py",
   "mimetype": "text/x-python",
   "name": "python",
   "nbconvert_exporter": "python",
   "pygments_lexer": "ipython3",
   "version": "3.10.5"
  }
 },
 "nbformat": 4,
 "nbformat_minor": 2
}
