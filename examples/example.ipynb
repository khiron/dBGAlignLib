{
 "cells": [
  {
   "cell_type": "code",
   "execution_count": 1,
   "metadata": {},
   "outputs": [],
   "source": [
    "import dBgAlign"
   ]
  },
  {
   "cell_type": "code",
   "execution_count": 2,
   "metadata": {},
   "outputs": [
    {
     "data": {
      "text/plain": [
       "dbg k:3, mol:MolType(('T', 'C', 'A', 'G')), seq's:3)"
      ]
     },
     "execution_count": 2,
     "metadata": {},
     "output_type": "execute_result"
    }
   ],
   "source": [
    "dbg = dBgAlign.DeBrujinGraph(kmer_length=3)\n",
    "dbg.add_sequence([\n",
    "    'ACAGTACGGCAT',\n",
    "    'ACAGTACTGGCAT',\n",
    "    'ACAGCGCAT'\n",
    "    ])\n",
    "\n",
    "dbg "
   ]
  },
  {
   "cell_type": "code",
   "execution_count": 13,
   "metadata": {},
   "outputs": [],
   "source": [
    "from IPython.display import display, HTML, Javascript\n",
    "\n",
    "mermaid_code = dbg.to_mermaid()\n",
    "\n",
    "import nbformat as nbf\n",
    "from nbformat.v4 import new_markdown_cell\n",
    "\n",
    "# Load the notebook\n",
    "nb = nbf.read('example.ipynb', as_version=4)\n",
    "\n",
    "# Full Mermaid graph within a markdown cell\n",
    "new_mermaid_cell_content = f\"```mermaid\\n{mermaid_code}\\n```\"\n",
    "\n",
    "cell_found = False\n",
    "\n",
    "for i, cell in enumerate(nb.cells):\n",
    "    # Check if the cell is a markdown cell and contains a Mermaid graph\n",
    "    if cell['cell_type'] == 'markdown' and '```mermaid' in cell['source']:\n",
    "        # Replace the entire content of the cell with the new Mermaid graph\n",
    "        nb.cells[i] = new_markdown_cell(new_mermaid_cell_content)\n",
    "        cell_found = True\n",
    "        break\n",
    "\n",
    "# If no existing Mermaid cell is found, add a new one\n",
    "if not cell_found:\n",
    "    nb.cells.append(new_markdown_cell(new_mermaid_cell_content))\n",
    "\n",
    "# Save the notebook\n",
    "nbf.write(nb, 'example.ipynb')"
   ]
  },
  {
   "cell_type": "markdown",
   "id": "6f6876d2",
   "metadata": {},
   "source": [
    "```mermaid\n",
    "graph LR;\n",
    "ACA -->|\"1\"| CAG;\n",
    "ACA -->|\"1\"| CAG;\n",
    "ACA -->|\"1\"| CAG;\n",
    "CAG -->|\"2\"| AGT;\n",
    "CAG -->|\"2\"| AGT;\n",
    "CAG -->|\"2\"| AGC;\n",
    "AGT -->|\"3\"| GTA;\n",
    "AGT -->|\"3\"| GTA;\n",
    "GTA -->|\"4\"| TAC;\n",
    "GTA -->|\"4\"| TAC;\n",
    "TAC -->|\"5\"| ACG;\n",
    "TAC -->|\"5\"| ACT;\n",
    "ACG -->|\"6\"| CGG;\n",
    "CGG -->|\"7\"| GGC;\n",
    "GGC -->|\"8\"| GCA;\n",
    "GGC -->|\"9\"| GCA;\n",
    "GCA -->|\"9\"| CAT;\n",
    "GCA -->|\"10\"| CAT;\n",
    "GCA -->|\"6\"| CAT;\n",
    "ACT -->|\"6\"| CTG;\n",
    "CTG -->|\"7\"| TGG;\n",
    "TGG -->|\"8\"| GGC;\n",
    "AGC -->|\"3\"| GCG;\n",
    "GCG -->|\"4\"| CGC;\n",
    "CGC -->|\"5\"| GCA;\n",
    "\n",
    "```"
   ]
  },
  {
   "cell_type": "code",
   "execution_count": 9,
   "metadata": {},
   "outputs": [
    {
     "data": {
      "text/plain": [
       "[Edge to CAG (1, 1), Edge to CAG (2, 1), Edge to CAG (3, 1)]"
      ]
     },
     "execution_count": 9,
     "metadata": {},
     "output_type": "execute_result"
    }
   ],
   "source": [
    "dbg.root.edges[0].target_node.edges"
   ]
  },
  {
   "cell_type": "code",
   "execution_count": null,
   "metadata": {},
   "outputs": [],
   "source": [
    "from cogent3 import load_unaligned_seqs\n",
    "import cogent3\n",
    "type(cogent3.DNA)"
   ]
  },
  {
   "cell_type": "code",
   "execution_count": null,
   "metadata": {},
   "outputs": [],
   "source": [
    "aln = load_unaligned_seqs(\"../tests/data/primates_brca1.fasta\", moltype=\"dna\")\n",
    "seq =  aln.seqs[7]\n",
    "seq.to_rich_dict()\n"
   ]
  }
 ],
 "metadata": {
  "kernelspec": {
   "display_name": "venv",
   "language": "python",
   "name": "python3"
  },
  "language_info": {
   "codemirror_mode": {
    "name": "ipython",
    "version": 3
   },
   "file_extension": ".py",
   "mimetype": "text/x-python",
   "name": "python",
   "nbconvert_exporter": "python",
   "pygments_lexer": "ipython3",
   "version": "3.10.5"
  }
 },
 "nbformat": 4,
 "nbformat_minor": 2
}
