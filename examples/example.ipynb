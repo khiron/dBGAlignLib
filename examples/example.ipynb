{
 "cells": [
  {
   "cell_type": "code",
   "execution_count": null,
   "metadata": {},
   "outputs": [],
   "source": [
    "import dBgAlign"
   ]
  },
  {
   "cell_type": "code",
   "execution_count": null,
   "metadata": {},
   "outputs": [],
   "source": [
    "dbg = dBgAlign.DeBrujinGraph(kmer_length=3)\n",
    "dbg.add_sequence([\n",
    "    'ACAGTACGGCAT',\n",
    "    'ACAGTACTGGCAT',\n",
    "    'ACAGCGCAT'\n",
    "    ])\n",
    "\n",
    "dbg "
   ]
  },
  {
   "cell_type": "code",
   "execution_count": null,
   "metadata": {},
   "outputs": [],
   "source": [
    "from IPython.display import display, HTML, Javascript\n",
    "\n",
    "mermaid_code = dbg.to_mermaid()\n",
    "\n",
    "import nbformat as nbf\n",
    "from nbformat.v4 import new_markdown_cell\n",
    "\n",
    "# Load the notebook\n",
    "nb = nbf.read('example.ipynb', as_version=4)\n",
    "\n",
    "# Full Mermaid graph within a markdown cell\n",
    "new_mermaid_cell_content = f\"```mermaid\\n{mermaid_code}\\n```\"\n",
    "\n",
    "cell_found = False\n",
    "\n",
    "for i, cell in enumerate(nb.cells):\n",
    "    # Check if the cell is a markdown cell and contains a Mermaid graph\n",
    "    if cell['cell_type'] == 'markdown' and '```mermaid' in cell['source']:\n",
    "        # Replace the entire content of the cell with the new Mermaid graph\n",
    "        nb.cells[i] = new_markdown_cell(new_mermaid_cell_content)\n",
    "        cell_found = True\n",
    "        break\n",
    "\n",
    "# If no existing Mermaid cell is found, add a new one\n",
    "if not cell_found:\n",
    "    nb.cells.append(new_markdown_cell(new_mermaid_cell_content))\n",
    "\n",
    "# Save the notebook\n",
    "nbf.write(nb, 'example.ipynb')"
   ]
  },
  {
   "cell_type": "markdown",
   "id": "7c1c6464",
   "metadata": {},
   "source": [
    "```mermaid\n",
    "graph LR;\n",
    "None -->|\"3\"| ACA;\n",
    "ACA -->|\"3\"| CAG;\n",
    "CAG -->|\"2\"| AGT;\n",
    "AGT -->|\"2\"| GTA;\n",
    "GTA -->|\"2\"| TAC;\n",
    "TAC -->|\"1\"| ACG;\n",
    "ACG -->|\"1\"| CGG;\n",
    "CGG -->|\"1\"| GGC;\n",
    "GGC -->|\"2\"| GCA;\n",
    "GCA -->|\"3\"| CAT;\n",
    "TAC -->|\"1\"| ACT;\n",
    "ACT -->|\"1\"| CTG;\n",
    "CTG -->|\"1\"| TGG;\n",
    "TGG -->|\"1\"| GGC;\n",
    "CAG -->|\"1\"| AGC;\n",
    "AGC -->|\"1\"| GCG;\n",
    "GCG -->|\"1\"| CGC;\n",
    "CGC -->|\"1\"| GCA;\n",
    "\n",
    "```"
   ]
  },
  {
   "cell_type": "code",
   "execution_count": null,
   "metadata": {},
   "outputs": [],
   "source": [
    "import base64\n",
    "from IPython.display import Image, display\n",
    "\n",
    "def mm_ink(graphbytes):\n",
    "  \"\"\"Given a bytes object holding a Mermaid-format graph, return a URL that will generate the image.\"\"\"\n",
    "  base64_bytes = base64.b64encode(graphbytes)\n",
    "  base64_string = base64_bytes.decode(\"ascii\")\n",
    "  return \"https://mermaid.ink/img/\" + base64_string\n",
    "\n",
    "def mm_display(graphbytes):\n",
    "  \"\"\"Given a bytes object holding a Mermaid-format graph, display it.\"\"\"\n",
    "  display(Image(url=mm_ink(graphbytes)))\n",
    "\n",
    "def mm(graph):\n",
    "  \"\"\"Given a string containing a Mermaid-format graph, display it.\"\"\"\n",
    "  graphbytes = graph.encode(\"ascii\")\n",
    "  mm_display(graphbytes)\n",
    "\n",
    "mm(mermaid_code)"
   ]
  },
  {
   "cell_type": "code",
   "execution_count": null,
   "metadata": {},
   "outputs": [],
   "source": [
    "from dBgAlign import display_mermaid_in_jupyter\n",
    "\n",
    "display_mermaid_in_jupyter(mermaid_code)"
   ]
  },
  {
   "cell_type": "code",
   "execution_count": null,
   "metadata": {},
   "outputs": [],
   "source": [
    "dbg.compress_graph()\n",
    "dbg"
   ]
  },
  {
   "cell_type": "code",
   "execution_count": null,
   "metadata": {},
   "outputs": [],
   "source": []
  },
  {
   "cell_type": "code",
   "execution_count": null,
   "metadata": {},
   "outputs": [],
   "source": [
    "from cogent3 import load_unaligned_seqs\n",
    "import cogent3\n",
    "type(cogent3.DNA)"
   ]
  },
  {
   "cell_type": "code",
   "execution_count": null,
   "metadata": {},
   "outputs": [],
   "source": [
    "aln = load_unaligned_seqs(\"../tests/data/primates_brca1.fasta\", moltype=\"dna\")\n",
    "seq =  aln.seqs[7]\n",
    "seq.to_rich_dict()\n"
   ]
  }
 ],
 "metadata": {
  "kernelspec": {
   "display_name": "venv",
   "language": "python",
   "name": "python3"
  },
  "language_info": {
   "codemirror_mode": {
    "name": "ipython",
    "version": 3
   },
   "file_extension": ".py",
   "mimetype": "text/x-python",
   "name": "python",
   "nbconvert_exporter": "python",
   "pygments_lexer": "ipython3",
   "version": "3.10.5"
  }
 },
 "nbformat": 4,
 "nbformat_minor": 2
}
